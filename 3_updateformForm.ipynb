{
 "cells": [
  {
   "cell_type": "markdown",
   "id": "9ee84287",
   "metadata": {},
   "source": [
    "## Here create function to update the model from a HTML form output format"
   ]
  },
  {
   "cell_type": "markdown",
   "id": "f05ffc36",
   "metadata": {},
   "source": [
    "Example form output: \n",
    "    `spec1_amt=10.0&spec2_amt=10.0&spec3_amt=10.0&reac1_expr=koff%20%2B%2028*kval&reac2_expr=`"
   ]
  },
  {
   "cell_type": "markdown",
   "id": "31bfc1f2",
   "metadata": {},
   "source": [
    "Note: here develop/test model imported as module"
   ]
  },
  {
   "cell_type": "code",
   "execution_count": 1,
   "id": "74ce5b8f",
   "metadata": {},
   "outputs": [],
   "source": [
    "from app.molybdenum import ModelRepresentation"
   ]
  },
  {
   "cell_type": "markdown",
   "id": "11621c7b",
   "metadata": {},
   "source": [
    "Define an example that will be updated with values from the form. Note that all values in the form are values that should be overwritten in the values of the model, no need to compare or anything like that, just overwrite if they have the proper type"
   ]
  },
  {
   "cell_type": "code",
   "execution_count": 2,
   "id": "99dde714",
   "metadata": {},
   "outputs": [],
   "source": [
    "example_mbmodel = {'species': {'spec1': {'name': 'E', 'amt': 5e-21, 'fixed': False},\n",
    "  'spec2': {'name': 'S', 'amt': 1e-20, 'fixed': False},\n",
    "  'spec3': {'name': 'ES', 'amt': 0.0, 'fixed': False},\n",
    "  'spec4': {'name': 'P', 'amt': 0.0, 'fixed': False}},\n",
    " 'reactions': {'reac5': {'name': 'veq',\n",
    "   'reagents': ['E', 'S'],\n",
    "   'products': ['ES'],\n",
    "   'expression': '(kon*E*S-koff*ES)'},\n",
    "  'reac6': {'name': 'vcat',\n",
    "   'reagents': ['ES'],\n",
    "   'products': ['P'],\n",
    "   'expression': 'kcat*ES'}},\n",
    " 'params': {'param1': {'name': 'koff', 'val': 0.2},\n",
    "  'param2': {'name': 'kon', 'val': 10000000.0},\n",
    "  'param3': {'name': 'kcat', 'val': 0.1}},\n",
    " 'sim_params': {}}"
   ]
  },
  {
   "cell_type": "code",
   "execution_count": 3,
   "id": "36f74629",
   "metadata": {},
   "outputs": [],
   "source": [
    "mb_model = ModelRepresentation()\n",
    "mb_model.loadm(example_mbmodel)"
   ]
  },
  {
   "cell_type": "markdown",
   "id": "5a870d8f",
   "metadata": {},
   "source": [
    "### current approach\n",
    "\n",
    "Form is passed in as a ImmutableMultiDictionary, which I converted to a list similar to this kind:\n",
    "\n",
    "`[('spec1_amt', ['2333']), ('spec1_fixed', ['True']), ('spec2_amt', ['3']), ('spec2_fixed', ['True']), ('reac1_expression', ['ae koff +x'])]`"
   ]
  },
  {
   "cell_type": "code",
   "execution_count": 11,
   "id": "f0ac02b9",
   "metadata": {},
   "outputs": [],
   "source": [
    "form_list = [('spec1_amt', ['10.0']),\n",
    "              ('spec1_fixed', ['True']),\n",
    "              ('spec2_amt', ['5']),\n",
    "              ('spec3_amt', ['42']),\n",
    "              ('reac5_expression', ['']),\n",
    "              ('reac6_expression', ['koff + 2*kon'])]"
   ]
  },
  {
   "cell_type": "code",
   "execution_count": 14,
   "id": "0f8ca93e",
   "metadata": {},
   "outputs": [
    {
     "name": "stdout",
     "output_type": "stream",
     "text": [
      "spec1 amt 10.0\n",
      "spec1 fixed True\n",
      "spec2 amt 5\n",
      "spec3 amt 42\n",
      "reac5 expression \n",
      "reac6 expression koff + 2*kon\n"
     ]
    }
   ],
   "source": [
    "for form_input in form_list:\n",
    "    try:\n",
    "        info, value = form_input\n",
    "    except:\n",
    "        raise ValueError(f'Invalid form input: \"{form_input}\" should be a two-element tuple')\n",
    "    # info further divided into component id and assigned attribute\n",
    "    try:\n",
    "        comp_id, att = info.split('_')\n",
    "    except:\n",
    "        raise ValueError(f'Invalid component or attribute: \"{info}\" has zero or more than one \"_\" signs, exactly one required')\n",
    "    # value should only have one element\n",
    "    if len(value) != 1:\n",
    "        raise ValueError(f'Invalid form input: {value} should only be one element')\n",
    "    value = value[0]\n",
    "    # find component_id in species, reactions or params, find attribute and assign or raise error\n",
    "    print(comp_id, att, value)\n",
    "    # same as in previous approach"
   ]
  },
  {
   "cell_type": "code",
   "execution_count": null,
   "id": "683b954d",
   "metadata": {},
   "outputs": [],
   "source": []
  },
  {
   "cell_type": "code",
   "execution_count": null,
   "id": "37114f7f",
   "metadata": {},
   "outputs": [],
   "source": []
  },
  {
   "cell_type": "code",
   "execution_count": null,
   "id": "6a5cae6b",
   "metadata": {},
   "outputs": [],
   "source": []
  },
  {
   "cell_type": "code",
   "execution_count": null,
   "id": "4fc667ab",
   "metadata": {},
   "outputs": [],
   "source": []
  },
  {
   "cell_type": "markdown",
   "id": "ee6b084f",
   "metadata": {},
   "source": [
    "## Previous approach\n",
    "\n",
    "Directly from the form string, complex, less pythonic and more prone to errors"
   ]
  },
  {
   "cell_type": "markdown",
   "id": "8674a8ea",
   "metadata": {},
   "source": [
    "Example form update"
   ]
  },
  {
   "cell_type": "code",
   "execution_count": 4,
   "id": "fc6a928e",
   "metadata": {},
   "outputs": [],
   "source": [
    "form_str = 'spec1_amt=10.0&spec2_amt=5&spec1_fixed=True&spec3_amt=42&reac6_expression=koff%20%2B%2028*kval&reac5_expression='"
   ]
  },
  {
   "cell_type": "code",
   "execution_count": 5,
   "id": "18ca35dc",
   "metadata": {},
   "outputs": [],
   "source": [
    "mb_model.update_from_form(form_str)"
   ]
  },
  {
   "cell_type": "code",
   "execution_count": 6,
   "id": "2bfa2667",
   "metadata": {},
   "outputs": [
    {
     "data": {
      "text/plain": [
       "{'species': {'spec1': {'name': 'E', 'amt': 10.0, 'fixed': True},\n",
       "  'spec2': {'name': 'S', 'amt': 5.0, 'fixed': False},\n",
       "  'spec3': {'name': 'ES', 'amt': 42.0, 'fixed': False},\n",
       "  'spec4': {'name': 'P', 'amt': 0.0, 'fixed': False}},\n",
       " 'reactions': {'reac5': {'name': 'veq',\n",
       "   'reagents': ['E', 'S'],\n",
       "   'products': ['ES'],\n",
       "   'expression': ''},\n",
       "  'reac6': {'name': 'vcat',\n",
       "   'reagents': ['ES'],\n",
       "   'products': ['P'],\n",
       "   'expression': 'koff + 28*kval'}},\n",
       " 'params': {'param1': {'name': 'koff', 'val': 0.2},\n",
       "  'param2': {'name': 'kon', 'val': 10000000.0},\n",
       "  'param3': {'name': 'kcat', 'val': 0.1}},\n",
       " 'node_to_id': {1: 'spec1',\n",
       "  2: 'spec2',\n",
       "  3: 'spec3',\n",
       "  4: 'spec4',\n",
       "  5: 'reac5',\n",
       "  6: 'reac6'},\n",
       " 'sim_params': {}}"
      ]
     },
     "execution_count": 6,
     "metadata": {},
     "output_type": "execute_result"
    }
   ],
   "source": [
    "mb_model.todict()"
   ]
  },
  {
   "cell_type": "markdown",
   "id": "9c25ece6",
   "metadata": {},
   "source": [
    "Start breaking the string into each parameter using the '&' symbol"
   ]
  },
  {
   "cell_type": "code",
   "execution_count": 8,
   "id": "323d869f",
   "metadata": {},
   "outputs": [
    {
     "data": {
      "text/plain": [
       "['spec1_amt=10.0',\n",
       " 'spec2_amt=5',\n",
       " 'spec1_fixed=True',\n",
       " 'spec3_amt=42',\n",
       " 'reac6_expr=koff%20%2B%2028*kval',\n",
       " 'reac5_expr=']"
      ]
     },
     "execution_count": 8,
     "metadata": {},
     "output_type": "execute_result"
    }
   ],
   "source": [
    "form_str.split('&')"
   ]
  },
  {
   "cell_type": "markdown",
   "id": "7959c57b",
   "metadata": {},
   "source": [
    "For each, split by the equal sign between information and value"
   ]
  },
  {
   "cell_type": "markdown",
   "id": "14854cec",
   "metadata": {},
   "source": [
    "Previous code"
   ]
  },
  {
   "cell_type": "markdown",
   "id": "8028f4ea",
   "metadata": {},
   "source": [
    "```python\n",
    "from urllib.parse import unquote\n",
    "\n",
    "# Split string into each input using the '&' symbol\n",
    "for form_input in form_str.split('&'):\n",
    "    try:\n",
    "        info, value = form_input.split('=')\n",
    "    except:\n",
    "        raise ValueError(f'Invalid form input: \"{form_input}\" has zero or more than one \"=\" signs, exactly one required')\n",
    "    # info further divided into component id and assigned attribute\n",
    "    try:\n",
    "        comp_id, att = info.split('_')\n",
    "    except:\n",
    "        raise ValueError(f'Invalid component or attribute: \"{info}\" has zero or more than one \"_\" signs, exactly one required')\n",
    "    # find component_id in species, reactions or params, find attribute and assign or raise error\n",
    "    if comp_id in self.species.keys():\n",
    "        try:\n",
    "            if att == 'amt':\n",
    "                self.species[comp_id][att] = float(value)\n",
    "            elif att == 'fixed':\n",
    "                self.species[comp_id][att] = bool(value)\n",
    "            else:\n",
    "                raise ValueError(f'Unrecognized attribute {att} in {form_input}')\n",
    "        except:\n",
    "            raise TypeError(f'Attribute {att} in {form_input} does not match with expected type')\n",
    "    elif comp_id in self.reactions.keys():\n",
    "        try:\n",
    "            if att == 'expr':\n",
    "                # expression contains html characters for symbols and spaces, decode with unquote\n",
    "                self.reactions[comp_id][att] = str(unquote(value))\n",
    "            else:\n",
    "                raise ValueError(f'Unrecognized attribute {att} in {form_input}')\n",
    "        except:\n",
    "            raise TypeError(f'Attribute {att} in {form_input} does not match with expected type')\n",
    "    elif comp_id in self.params.keys():\n",
    "        try:\n",
    "            if att == 'name':\n",
    "                self.params[comp_id][att] = str(value)\n",
    "            elif att == 'val':\n",
    "                self.params[comp_id][att] = float(value)\n",
    "            else:\n",
    "                raise ValueError(f'Unrecognized attribute {att} in {form_input}')\n",
    "        except:\n",
    "            raise TypeError(f'Attribute {att} in {form_input} does not match with expected type')\n",
    "    else:\n",
    "        raise ValueError(f'Component {comp_id} not found in species, reactions or params')\n",
    "```"
   ]
  },
  {
   "cell_type": "code",
   "execution_count": null,
   "id": "59dbe9d4",
   "metadata": {},
   "outputs": [],
   "source": []
  }
 ],
 "metadata": {
  "kernelspec": {
   "display_name": "Python 3 (ipykernel)",
   "language": "python",
   "name": "python3"
  },
  "language_info": {
   "codemirror_mode": {
    "name": "ipython",
    "version": 3
   },
   "file_extension": ".py",
   "mimetype": "text/x-python",
   "name": "python",
   "nbconvert_exporter": "python",
   "pygments_lexer": "ipython3",
   "version": "3.7.0"
  }
 },
 "nbformat": 4,
 "nbformat_minor": 5
}
