{
 "cells": [
  {
   "cell_type": "markdown",
   "id": "0127e08b",
   "metadata": {},
   "source": [
    "Antimony is imported as sb (symbol)\n",
    "Tellurium is imported as te (symbol)\n",
    "My program can be called: neodymium (nd) or nobelium (no) from node but very similar to numpy! Better tellurium model builder (telmb)\n",
    "\n",
    "Better: My program will be called Molybdenum!!! Imported as mb which stands for Model Builder"
   ]
  },
  {
   "cell_type": "markdown",
   "id": "8733ad49",
   "metadata": {},
   "source": [
    "## Source information"
   ]
  },
  {
   "cell_type": "markdown",
   "id": "bff68f75",
   "metadata": {},
   "source": [
    " - https://github.com/sys-bio/tellurium/blob/develop/tellurium/teconverters/convert_antimony.py\n",
    " - https://simplesbml.readthedocs.io/en/latest/_modules/simplesbml.html\n",
    " - https://github.com/sys-bio/simplesbml/blob/master/simplesbml/simplesbml.py\n",
    " - https://simplesbml.readthedocs.io/en/latest/"
   ]
  },
  {
   "cell_type": "markdown",
   "id": "288d2b9f",
   "metadata": {},
   "source": [
    "## Example representations.\n",
    "\n",
    "- `con_data` is specific to the nodes, and I call it graphical representation.\n",
    "- `mod_data` is actually the molybdenum model format."
   ]
  },
  {
   "cell_type": "code",
   "execution_count": 88,
   "id": "fac2999c",
   "metadata": {},
   "outputs": [],
   "source": [
    "con_data = {'nodes':  [{'id': 1, 'title': 'E', 'x': 228.1999969482422, 'y': 169.60000610351562, 'nodeClass': 'species'},\n",
    "                       {'id': 2, 'title': 'S', 'x': 227.1999969482422, 'y': 323.6000061035156, 'nodeClass': 'species'},\n",
    "                       {'id': 3, 'title': 'ES', 'x': 615.2000122070312, 'y': 226.60000610351562, 'nodeClass': 'species'},\n",
    "                       {'id': 4, 'title': 'P', 'x': 959.2000122070312, 'y': 222.60000610351562, 'nodeClass': 'species'},\n",
    "                       {'id': 5, 'title': 'R1', 'x': 400.20001220703125, 'y': 229.60000610351562, 'nodeClass': 'reaction'},\n",
    "                       {'id': 6, 'title': 'R2', 'x': 776.2000122070312, 'y': 229.60000610351562, 'nodeClass': 'reaction'}],\n",
    "             'edges': [{'source': 1, 'target': 5}, \n",
    "                       {'source': 2, 'target': 5},\n",
    "                       {'source': 5, 'target': 3},\n",
    "                       {'source': 3, 'target': 6},\n",
    "                       {'source': 6, 'target': 4}]} \n",
    "\n",
    "\n",
    "## this was the original one\n",
    "# mod_data = {'species': {'1': {'name': 'E', 'concentration': 10.0, 'fixed': False},\n",
    "#                         '2': {'name': 'S', 'concentration': 10.0, 'fixed': False},\n",
    "#                         '3': {'name': 'ES', 'concentration': 10.0, 'fixed': False},\n",
    "#                         '4': {'name': 'P', 'concentration': 10.0, 'fixed': False}},\n",
    "#             'reactions': {'5': {'name': 'R1', 'reagents': ['E', 'S'], 'products': ['ES'], 'reversible': False},\n",
    "#                           '6': {'name': 'R2', 'reagents': ['ES'], 'products': ['P'], 'reversible': False}}}\n",
    "\n",
    "## but I prefer this one\n",
    "mod_data = {'species': {'spec1': {'name': 'E', 'concentration': 10.0, 'fixed': False}, # if name starts with $ will set as fixed\n",
    "                        'spec2': {'name': 'S', 'concentration': 10.0, 'fixed': False},\n",
    "                        'spec3': {'name': 'ES', 'concentration': 10.0, 'fixed': False},\n",
    "                        'spec4': {'name': 'P', 'concentration': 10.0, 'fixed': False}},\n",
    "            'reactions': {'reac5': {'name': 'R1', 'reagents': ['E', 'S'], 'products': ['ES'], 'reversible': False},\n",
    "                          'reac6': {'name': 'R2', 'reagents': ['ES'], 'products': ['P'], 'reversible': False}},\n",
    "            'params': {'param1': {'name': 'Kcat', 'value': 12}, #units in the future\n",
    "                       'param2': {'name': 'Kmax', 'value': 10}},\n",
    "            # optionally, can include simulation parameters and node_to_id values\n",
    "            'node_to_id': {1: 'spec1',\n",
    "                           2: 'spec2',\n",
    "                           3: 'spec3',\n",
    "                           4: 'spec4',\n",
    "                           5: 'spec5'},\n",
    "            'simpars': {'init': 0, 'fin': 10, 'steps': 200}\n",
    "           }"
   ]
  },
  {
   "cell_type": "markdown",
   "id": "4f2a68e8",
   "metadata": {},
   "source": [
    "How my module should be used"
   ]
  },
  {
   "cell_type": "markdown",
   "id": "cd7cc9ce",
   "metadata": {},
   "source": [
    "```python\n",
    "## 1. Initialize the model\n",
    "\n",
    "# import molybdenum as mb\n",
    "# model = mb.ModelRepresentation()\n",
    "# or\n",
    "from molybenum import ModelRepresentation()\n",
    "model = ModelRepresentation()\n",
    "\n",
    "# this custom internal representation is known as molybdenum. Differential fact is that has an ID for each element,\n",
    "# which allows for easy renaming of any parameter\n",
    "\n",
    "model.species #empty now but initialized\n",
    "model.reactions #empty now but initialized\n",
    "model.events #support not yet implemented\n",
    "model.simparams #simulation parameters\n",
    "\n",
    "## 2. Fill in the information (species, reactions...)\n",
    "# graph representation of nodes and edges\n",
    "graph_rep = {}\n",
    "\n",
    "# this function should have some checks defined inside the modelrepresentation class to ensure all IDs are unique\n",
    "# note that update_from_nodes should only modify names and connections.\n",
    "# If connection is modified reaction value or string should be modified\n",
    "# But do not erase previous values of concentration if specie is not new or something.\\\n",
    "# Initialize with Nan, or as empty..? so that it can be displayed on form as missing\n",
    "# IDs help keep track of changes in the name\n",
    "model.update_from_graph(graph_rep)\n",
    "\n",
    "model.species # no longer empty\n",
    "model.reactions # no longer empty\n",
    "\n",
    "# form is created by javascript directly from model.species or model.reactions\n",
    "# form species and reactions are always listed in order of the ID of the species or reaction, so that \n",
    "# form values are passed in as a json or dictionary or something... \n",
    "# form does not alter the connections (reaction/products), only the others\n",
    "# I guess reactions shall be dropdowns with table for parameters or something like this...\n",
    "# when user types in new expression for a reaction, new parameters are created if they haven't been defined. Parameter's names can change in the parameter block and this will also update the expression (will have to implement this)\n",
    "form_rep = {}\n",
    "model.update_from_form(form_rep)\n",
    "\n",
    "## 3. Export the model\n",
    "model.tosimpleSbml() # I have to build this one (add species, etc...)\n",
    "model.toSBML() # inside, calls tosimpleSbml and then the function to export to SBML string\n",
    "model.toAntimony() # inside, calls toSBML to get SBML string and then convert this to antimony using tellurium function\n",
    "model.toGraph() # go from the internal representation to the graphic representation\n",
    "\n",
    "## 4. Run the model\n",
    "sim_param = {} # parameters as you would set them in tellurium\n",
    "model.update_sim_params(sim_param) # get the simulation parameters\n",
    "\n",
    "model.run() # use tellurium to run the model\n",
    "\n",
    "## 5. Alternative ways to initialize (they do not update, just initialize the model)\n",
    "model.loadm(molybenummodel) # takes as input molybdenummodel, basically assigns species to species and reactions to reactions...\n",
    "model.fromsimpleSbml(simpleSbmlmodel) # take SBML model and get the representation. Assign arbitrary IDs I guess... so that I can make node representation\n",
    "model.fromAntimony(antimonymodel) # get SBML string from antimony, then use antimony to export to SBML and then use simpleSbml to go from SBML to simpleSBML and finally use fromsimpleSbml to get model inside\n",
    "```"
   ]
  },
  {
   "cell_type": "markdown",
   "id": "3a7b9475",
   "metadata": {},
   "source": [
    "**Initial sketch**"
   ]
  },
  {
   "cell_type": "code",
   "execution_count": 80,
   "id": "cc7b6df8",
   "metadata": {},
   "outputs": [],
   "source": [
    "class ModelRepresentation(object):\n",
    "    def __init__(self):\n",
    "        self.species = dict()\n",
    "        self.reactions = dict()\n",
    "        # not implemented yet\n",
    "        # self.events = dict()\n",
    "        # self.simparam = dict()\n",
    "\n",
    "    def loadm(self, molybdenum_model):\n",
    "        self.species = molybdenum_model['species']\n",
    "        self.reactions = molybdenum_model['reactions']\n",
    "    \n",
    "    def tosimpleSbml(self):\n",
    "        \"\"\"Need to write this up now\"\"\"\n",
    "        simpSbml_rep = None\n",
    "        return simpSbml_rep\n",
    "    def toSBMLstr(self):\n",
    "        # gets smbl\n",
    "        simpSbml_rep = self.tosimpleSbml()\n",
    "        #toSBML is also a function from simpleSBML models that gets the sbml string, (confusing?)\n",
    "        sbml_str = simpSbml_rep.toSBML()\n",
    "        return sbml_str\n",
    "    def tosimpleSbmlWriteup(self):\n",
    "        simpSBML_rep = self.toSBMLstr()\n",
    "        sbml_rep = simpSBML_rep.toSBML()\n",
    "        sbml_writeup = simplesbml.simplesbml.writeCodeFromString(sbml_rep)\n",
    "        return sbml_writeup\n",
    "\n",
    "    def toAntimony(self):\n",
    "        import tellurium as te\n",
    "        r = te.antimonyConverter()\n",
    "        sbml_str = self.toSBMLstr()\n",
    "        sb_rep = r.sbmlToAntimony(sbml_str)[1]\n",
    "        return sb_rep\n",
    "    def toGraph(self):\n",
    "        \"\"\"Need to write this one up\"\"\"\n",
    "        # for this, new X and Y values should be blank or zero even if looks awful, it is just for further development\n",
    "        return None"
   ]
  },
  {
   "cell_type": "markdown",
   "id": "77a60b25",
   "metadata": {},
   "source": [
    "## Some examples on how to convert simpleSBML to other formats"
   ]
  },
  {
   "cell_type": "markdown",
   "id": "444084ab",
   "metadata": {},
   "source": [
    "Start creating a simpleSBML model (will later be a simpleSBML model created from the Molybdenum model representation)"
   ]
  },
  {
   "cell_type": "code",
   "execution_count": 85,
   "id": "00fecfb9",
   "metadata": {},
   "outputs": [
    {
     "data": {
      "text/plain": [
       "<Reaction vcat>"
      ]
     },
     "execution_count": 85,
     "metadata": {},
     "output_type": "execute_result"
    }
   ],
   "source": [
    "import simplesbml\n",
    "model = simplesbml.SbmlModel()\n",
    "model.addSpecies('E', 5e-21)\n",
    "model.addSpecies('S', 1e-20)\n",
    "model.addSpecies('ES', 0.0)\n",
    "model.addSpecies('P', 0.0)\n",
    "model.addParameter('koff', 0.2)\n",
    "model.addParameter('kon', 1000000.0)\n",
    "model.addParameter('kcat', 0.1)\n",
    "model.addReaction(['E', 'S'], ['ES'], '(kon*E*S-koff*ES)', rxn_id='veq')\n",
    "model.addReaction(['ES'], ['E', 'P'], 'kcat*ES', rxn_id='vcat')"
   ]
  },
  {
   "cell_type": "markdown",
   "id": "06bda75f",
   "metadata": {},
   "source": [
    "Export model to SBML string"
   ]
  },
  {
   "cell_type": "code",
   "execution_count": 82,
   "id": "0b9122f5",
   "metadata": {},
   "outputs": [
    {
     "name": "stdout",
     "output_type": "stream",
     "text": [
      "<?xml version=\"1.0\" encoding=\"UTF-8\"?>\n",
      "<sbml xmlns=\"http://www.sbml.org/sbml/level3/version1/core\" level=\"3\" version=\"1\">\n",
      "  <model substanceUnits=\"mole\" timeUnits=\"second\" extentUnits=\"mole\">\n",
      "    <listOfUnitDefinitions>\n",
      "      <unitDefinition id=\"per_second\">\n",
      "        <listOfUnits>\n",
      "          <unit kind=\"second\" exponent=\"-1\" scale=\"0\" multiplier=\"1\"/>\n",
      "        </listOfUnits>\n",
      "      </unitDefinition>\n",
      "    </listOfUnitDefinitions>\n",
      "    <listOfCompartments>\n",
      "      <compartment id=\"c1\" spatialDimensions=\"3\" size=\"1\" units=\"litre\" constant=\"true\"/>\n",
      "    </listOfCompartments>\n",
      "    <listOfSpecies>\n",
      "      <species id=\"E\" compartment=\"c1\" initialAmount=\"5e-21\" substanceUnits=\"mole\" hasOnlySubstanceUnits=\"false\" boundaryCondition=\"false\" constant=\"false\"/>\n",
      "      <species id=\"S\" compartment=\"c1\" initialAmount=\"1e-20\" substanceUnits=\"mole\" hasOnlySubstanceUnits=\"false\" boundaryCondition=\"false\" constant=\"false\"/>\n",
      "      <species id=\"ES\" compartment=\"c1\" initialAmount=\"0\" substanceUnits=\"mole\" hasOnlySubstanceUnits=\"false\" boundaryCondition=\"false\" constant=\"false\"/>\n",
      "      <species id=\"P\" compartment=\"c1\" initialAmount=\"0\" substanceUnits=\"mole\" hasOnlySubstanceUnits=\"false\" boundaryCondition=\"false\" constant=\"false\"/>\n",
      "    </listOfSpecies>\n",
      "    <listOfParameters>\n",
      "      <parameter id=\"koff\" value=\"0.2\" units=\"per_second\" constant=\"false\"/>\n",
      "      <parameter id=\"kon\" value=\"1000000\" units=\"per_second\" constant=\"false\"/>\n",
      "      <parameter id=\"kcat\" value=\"0.1\" units=\"per_second\" constant=\"false\"/>\n",
      "    </listOfParameters>\n",
      "    <listOfReactions>\n",
      "      <reaction id=\"veq\" reversible=\"false\" fast=\"false\">\n",
      "        <listOfReactants>\n",
      "          <speciesReference species=\"E\" stoichiometry=\"1\" constant=\"true\"/>\n",
      "          <speciesReference species=\"S\" stoichiometry=\"1\" constant=\"true\"/>\n",
      "        </listOfReactants>\n",
      "        <listOfProducts>\n",
      "          <speciesReference species=\"ES\" stoichiometry=\"1\" constant=\"true\"/>\n",
      "        </listOfProducts>\n",
      "        <kineticLaw>\n",
      "          <math xmlns=\"http://www.w3.org/1998/Math/MathML\">\n",
      "            <apply>\n",
      "              <minus/>\n",
      "              <apply>\n",
      "                <times/>\n",
      "                <ci> kon </ci>\n",
      "                <ci> E </ci>\n",
      "                <ci> S </ci>\n",
      "              </apply>\n",
      "              <apply>\n",
      "                <times/>\n",
      "                <ci> koff </ci>\n",
      "                <ci> ES </ci>\n",
      "              </apply>\n",
      "            </apply>\n",
      "          </math>\n",
      "        </kineticLaw>\n",
      "      </reaction>\n",
      "      <reaction id=\"vcat\" reversible=\"false\" fast=\"false\">\n",
      "        <listOfReactants>\n",
      "          <speciesReference species=\"ES\" stoichiometry=\"1\" constant=\"true\"/>\n",
      "        </listOfReactants>\n",
      "        <listOfProducts>\n",
      "          <speciesReference species=\"E\" stoichiometry=\"1\" constant=\"true\"/>\n",
      "          <speciesReference species=\"P\" stoichiometry=\"1\" constant=\"true\"/>\n",
      "        </listOfProducts>\n",
      "        <kineticLaw>\n",
      "          <math xmlns=\"http://www.w3.org/1998/Math/MathML\">\n",
      "            <apply>\n",
      "              <times/>\n",
      "              <ci> kcat </ci>\n",
      "              <ci> ES </ci>\n",
      "            </apply>\n",
      "          </math>\n",
      "        </kineticLaw>\n",
      "      </reaction>\n",
      "    </listOfReactions>\n",
      "  </model>\n",
      "</sbml>\n",
      "\n"
     ]
    }
   ],
   "source": [
    "sbml_str = model.toSBML()\n",
    "print(sbml_str)"
   ]
  },
  {
   "cell_type": "markdown",
   "id": "4506f840",
   "metadata": {},
   "source": [
    "Now, get the instructions to make such a model in simpleSBML"
   ]
  },
  {
   "cell_type": "code",
   "execution_count": 84,
   "id": "efb9d82f",
   "metadata": {},
   "outputs": [
    {
     "name": "stdout",
     "output_type": "stream",
     "text": [
      "import simplesbml\n",
      "model = simplesbml.sbmlModel();\n",
      "model.addSpecies(species_id='E', amt=5e-21);\n",
      "model.addSpecies(species_id='S', amt=1e-20);\n",
      "model.addSpecies(species_id='ES', amt=0.0);\n",
      "model.addSpecies(species_id='P', amt=0.0);\n",
      "model.addParameter(param_id='koff', val=0.2);\n",
      "model.addParameter(param_id='kon', val=1000000.0);\n",
      "model.addParameter(param_id='kcat', val=0.1);\n",
      "model.addReaction(reactants=['E', 'S'], products=['ES'], expression='kon * E * S - koff * ES', rxn_id='veq');\n",
      "model.addReaction(reactants=['ES'], products=['E', 'P'], expression='kcat * ES', rxn_id='vcat');\n"
     ]
    }
   ],
   "source": [
    "simpSBML_instructions = simplesbml.simplesbml.writeCodeFromString(sbml_str)\n",
    "print(simpSBML_instructions)"
   ]
  },
  {
   "cell_type": "markdown",
   "id": "3c8d2646",
   "metadata": {},
   "source": [
    "Now, get the antimony representation"
   ]
  },
  {
   "cell_type": "code",
   "execution_count": 87,
   "id": "2f4e3a0c",
   "metadata": {},
   "outputs": [
    {
     "name": "stdout",
     "output_type": "stream",
     "text": [
      "// Created by libAntimony v2.12.0\n",
      "model *doc0()\n",
      "\n",
      "  // Compartments and Species:\n",
      "  compartment c1;\n",
      "  species E in c1, S in c1, ES in c1, P in c1;\n",
      "\n",
      "  // Reactions:\n",
      "  veq: E + S => ES; kon*E*S - koff*ES;\n",
      "  vcat: ES => E + P; kcat*ES;\n",
      "\n",
      "  // Species initializations:\n",
      "  E = 5e-21/c1;\n",
      "  E has mole_per_litre;\n",
      "  S = 1e-20/c1;\n",
      "  S has mole_per_litre;\n",
      "  ES = 0;\n",
      "  ES has mole_per_litre;\n",
      "  P = 0;\n",
      "  P has mole_per_litre;\n",
      "\n",
      "  // Compartment initializations:\n",
      "  c1 = 1;\n",
      "  c1 has litre;\n",
      "\n",
      "  // Variable initializations:\n",
      "  koff = 0.2;\n",
      "  koff has per_second;\n",
      "  kon = 1000000;\n",
      "  kon has per_second;\n",
      "  kcat = 0.1;\n",
      "  kcat has per_second;\n",
      "\n",
      "  // Other declarations:\n",
      "  var koff, kon, kcat;\n",
      "  const c1;\n",
      "\n",
      "  // Unit definitions:\n",
      "  unit per_second = 1 / second;\n",
      "  unit substance = mole;\n",
      "  unit extent = mole;\n",
      "  unit time_unit = second;\n",
      "  unit mole_per_litre = mole / litre;\n",
      "end\n",
      "\n"
     ]
    }
   ],
   "source": [
    "import tellurium as te\n",
    "sb_rep = te.antimonyConverter().sbmlToAntimony(moddd)[1]\n",
    "print(sb_rep)"
   ]
  }
 ],
 "metadata": {
  "kernelspec": {
   "display_name": "telmb",
   "language": "python",
   "name": "telmb"
  },
  "language_info": {
   "codemirror_mode": {
    "name": "ipython",
    "version": 3
   },
   "file_extension": ".py",
   "mimetype": "text/x-python",
   "name": "python",
   "nbconvert_exporter": "python",
   "pygments_lexer": "ipython3",
   "version": "3.7.0"
  }
 },
 "nbformat": 4,
 "nbformat_minor": 5
}
