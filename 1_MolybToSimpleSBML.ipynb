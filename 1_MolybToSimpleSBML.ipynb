{
 "cells": [
  {
   "cell_type": "markdown",
   "id": "4e83ba0a",
   "metadata": {},
   "source": [
    "## go from molybdenum to simpleSBML"
   ]
  },
  {
   "cell_type": "markdown",
   "id": "d78047a1",
   "metadata": {},
   "source": [
    "Problem with the simpleSBML representation:\n",
    "\n",
    "I want something fluid, like the user should be able to change the name or anything of the anything, which is the ID in simpleSBML, and still keep the representation. simpleSBML does not have Ids so I can't have this fluid behavior. I use a representation which keeps this information, same as simpleSBML but in a dictionary, which makes it readable, and also some information related to nodes. Since the structure is very simple and integrates with simpleSBML I can get all functionality from simpleSBML like exporting to SBML, antimony or tellurium directly."
   ]
  },
  {
   "cell_type": "markdown",
   "id": "2b66f72b",
   "metadata": {},
   "source": [
    "I know the name and Id gets a bit confusing but it makes a lot of sense. The Id of species or reactions is equivalent to the ID in the nodes, with the difference than ID of the nodes must be an integer, while having the ID lets the user have some more freedom. \n",
    "\n",
    "I guess it might be possible to use this technique and correlate the name of the species with the node id?? But I am afraid this would make updates risky and technically difficult, I can see when I get to that part..."
   ]
  },
  {
   "cell_type": "markdown",
   "id": "65b2a16d",
   "metadata": {},
   "source": [
    "How the molybdenum representation should look like:\n",
    "\n",
    "```python\n",
    "mod_data = {'species': {'spec1': {'name': 'E', 'concentration': 10.0, 'fixed': False}, # if name starts with $ will set as fixed\n",
    "                        'spec2': {'name': 'S', 'concentration': 10.0, 'fixed': False},\n",
    "                        'spec3': {'name': 'ES', 'concentration': 10.0, 'fixed': False},\n",
    "                        'spec4': {'name': 'P', 'concentration': 10.0, 'fixed': False}},\n",
    "            'reactions': {'reac5': {'name': 'R1', 'reagents': ['E', 'S'], 'products': ['ES'], 'reversible': False},\n",
    "                          'reac6': {'name': 'R2', 'reagents': ['ES'], 'products': ['P'], 'reversible': False}},\n",
    "            'params': {'param1': {'name': 'Kcat', 'value': 12}, #units in the future\n",
    "                       'param2': {'name': 'Kmax', 'value': 10}},\n",
    "            # optionally, can include simulation parameters and node_to_id values\n",
    "            'node_to_id': {1: 'spec1',\n",
    "                           2: 'spec2',\n",
    "                           3: 'spec3',\n",
    "                           4: 'spec4',\n",
    "                           5: 'spec5'},\n",
    "            'sim_params': {'init': 0, 'fin': 10, 'steps': 200}\n",
    "           }\n",
    "```"
   ]
  },
  {
   "cell_type": "markdown",
   "id": "007334da",
   "metadata": {},
   "source": [
    "This is the model I will try to emulate here:\n",
    "\n",
    "```python\n",
    "import simplesbml\n",
    "model = simplesbml.SbmlModel()\n",
    "model.addSpecies('E', 5e-21)\n",
    "model.addSpecies('S', 1e-20)\n",
    "model.addSpecies('ES', 0.0)\n",
    "model.addSpecies('P', 0.0)\n",
    "model.addParameter('koff', 0.2)\n",
    "model.addParameter('kon', 1000000.0)\n",
    "model.addParameter('kcat', 0.1)\n",
    "model.addReaction(['E', 'S'], ['ES'], '(kon*E*S-koff*ES)', rxn_id='veq')\n",
    "model.addReaction(['ES'], ['E', 'P'], 'kcat*ES', rxn_id='vcat')\n",
    "```"
   ]
  },
  {
   "cell_type": "markdown",
   "id": "1d178af9",
   "metadata": {},
   "source": [
    "Input in molybdenum format"
   ]
  },
  {
   "cell_type": "code",
   "execution_count": 1,
   "id": "c6301897",
   "metadata": {},
   "outputs": [],
   "source": [
    "mod_data = {'species': {'spec1': {'name': 'E', 'amt': 5e-21, 'fixed': False}, # if name starts with $ will set as fixed\n",
    "                        'spec2': {'name': 'S', 'amt': 1e-20, 'fixed': False},\n",
    "                        'spec3': {'name': 'ES', 'amt': 0.0, 'fixed': False},\n",
    "                        'spec4': {'name': 'P', 'amt': 0.0, 'fixed': False}},\n",
    "            'reactions': {'reac5': {'name': 'veq', 'reagents': ['E', 'S'], 'products': ['ES'], 'expression': '(kon*E*S-koff*ES)'},\n",
    "                          'reac6': {'name': 'vcat', 'reagents': ['ES'], 'products': ['P'], 'expression': 'kcat*ES'}},\n",
    "            'params': {'param1': {'name': 'koff', 'val': 0.2}, #units in the future\n",
    "                       'param2': {'name': 'kon', 'val': 1e7},\n",
    "                       'param3': {'name': 'kcat', 'val': 0.1}}}"
   ]
  },
  {
   "cell_type": "code",
   "execution_count": 2,
   "id": "ee4c2438",
   "metadata": {},
   "outputs": [],
   "source": [
    "def create_ids(mb_model):\n",
    "    \"\"\"\n",
    "    Assigns arbitrary node ids based on species and reactions of a molybdenum model\n",
    "    \n",
    "    Inputs\n",
    "      mb_model: nested dictionary in molybdenum format with species and reactions defined, at least\n",
    "    \n",
    "    Outputs\n",
    "      node_to_id: dictionary with:\n",
    "         keys: integers corresponding to node ids\n",
    "         values: corresponding ids in the molybdenum model\n",
    "    \"\"\"    \n",
    "    try:\n",
    "        type(mb_model['species']) == dict\n",
    "    except:\n",
    "        raise ValueError(f'Molybdenum model must have a \"species\" key with a dictionary value')\n",
    "    \n",
    "    try:\n",
    "        type(mb_model['reactions']) == dict\n",
    "    except:\n",
    "        raise ValueError(f'Molybdenum model must have a \"reactions\" key with a dictionary value')\n",
    "    \n",
    "    node_to_id = dict()\n",
    "    mb_ids = list(mb_model['species'].keys()) + list(mb_model['reactions'].keys())\n",
    "    \n",
    "    for node_id, mb_id in enumerate(mb_ids, 1):\n",
    "        node_to_id[node_id] = mb_id\n",
    "\n",
    "    return node_to_id"
   ]
  },
  {
   "cell_type": "code",
   "execution_count": 3,
   "id": "d964ead9",
   "metadata": {},
   "outputs": [
    {
     "data": {
      "text/plain": [
       "{1: 'spec1', 2: 'spec2', 3: 'spec3', 4: 'spec4', 5: 'reac5', 6: 'reac6'}"
      ]
     },
     "execution_count": 3,
     "metadata": {},
     "output_type": "execute_result"
    }
   ],
   "source": [
    "create_ids(mod_data)"
   ]
  },
  {
   "cell_type": "code",
   "execution_count": 19,
   "id": "8f35458a",
   "metadata": {},
   "outputs": [],
   "source": [
    "class ModelRepresentation(object):\n",
    "    def __init__(self):\n",
    "        self.species = dict()\n",
    "        self.reactions = dict()\n",
    "        self.params = dict()\n",
    "        self.node_to_id = dict()\n",
    "        self.sim_params = dict()\n",
    "        # not implemented yet\n",
    "        # self.events = dict()\n",
    "\n",
    "    def loadm(self, molybdenum_model):\n",
    "        \"\"\"Note this is not an update, erases everything that was there previously\n",
    "        \n",
    "        TODO: needs to be more elaborate. What if no concentration is passed as default for species? error or assign one?\n",
    "        TODO: what if an specie starts with $ symbol, should we turn Fixed=True automatically? I would say, yes! and raise error if Fixed was explicitly false but $ is in name, this would cause confusion\n",
    "        TODO: perform a check that all ids (keys in dictionaries) are unique for species, params and reactions, if not invalid format\n",
    "        \"\"\"\n",
    "        self.species = molybdenum_model['species']\n",
    "        self.reactions = molybdenum_model['reactions']\n",
    "        self.params = molybdenum_model['params']\n",
    "        # some are optional\n",
    "        if 'node_to_id' in molybdenum_model.keys():\n",
    "            self.node_to_id = molybdenum_model['node_to_id']\n",
    "        else:\n",
    "            # if not there, create it from ids in the model\n",
    "            self.node_to_id = create_ids(molybdenum_model)\n",
    "        if 'sim_params' in molybdenum_model.keys():\n",
    "            self.sim_params = molybdenum_model['sim_params']\n",
    "        else:\n",
    "            # keep empty, if user tries to use it, will raise error\n",
    "            self.sim_params = dict()\n",
    "    \n",
    "    def todict(self):\n",
    "        \"\"\"\n",
    "        Get all information in a nested dictionary\n",
    "        \"\"\"\n",
    "        return self.__dict__\n",
    "        \n",
    "    def tojson(self):\n",
    "        \"\"\"\n",
    "        In Json things are double quoted and false is in lowercase\n",
    "        \"\"\"\n",
    "        import json\n",
    "        json_rep = json.dumps(self.todict())\n",
    "        return json_rep\n",
    "    \n",
    "    def tosimpleSbml(self):\n",
    "        \"\"\"Need to write this up now\"\"\"\n",
    "        #TODO: is importing inside the function correct?\n",
    "        import simplesbml\n",
    "        # initialize a model\n",
    "        simpSbml_rep = simplesbml.SbmlModel()\n",
    "        \n",
    "        # add species\n",
    "        for spec in self.species.values():\n",
    "            # if species is fixed, add $ sign to its name (if not there already) so that\n",
    "            # simpleSbml understands it is boundary / fixed\n",
    "            if spec['fixed'] and spec['name'][0] != '$':\n",
    "                spec_name = '$' + spec['name']\n",
    "            else:\n",
    "                spec_name = spec['name']\n",
    "            # component support in the future\n",
    "            simpSbml_rep.addSpecies(species_id = spec_name, amt = spec['amt'])#, comp='c1')\n",
    "        \n",
    "        # add reactions\n",
    "        for reac in self.reactions.values():\n",
    "            simpSbml_rep.addReaction(reactants=reac['reagents'],\n",
    "                                     products=reac['products'],\n",
    "                                     expression=reac['expression'],\n",
    "                                     rxn_id=reac['name'])\n",
    "\n",
    "        # add parameters\n",
    "        for param in self.params.values():\n",
    "            simpSbml_rep.addParameter(param_id=param['name'],\n",
    "                                      val=param['val'],\n",
    "                                      units='per_second') # unit support not yet\n",
    "\n",
    "        return simpSbml_rep\n",
    "\n",
    "    def toSBMLstr(self):\n",
    "        # gets smbl\n",
    "        simpSbml_rep = self.tosimpleSbml()\n",
    "        #toSBML is also a function from simpleSBML models that gets the sbml string, (confusing?)\n",
    "        sbml_str = simpSbml_rep.toSBML()\n",
    "        return sbml_str\n",
    "\n",
    "    def tosimpleSbmlWriteup(self):\n",
    "        import simplesbml\n",
    "        sbml_rep = self.toSBMLstr()\n",
    "        sbml_writeup = simplesbml.simplesbml.writeCodeFromString(sbml_rep)\n",
    "        return sbml_writeup\n",
    "\n",
    "    def toAntimony(self):\n",
    "        import tellurium as te\n",
    "        r = te.antimonyConverter()\n",
    "        sbml_str = self.toSBMLstr()\n",
    "        sb_rep = r.sbmlToAntimony(sbml_str)[1]\n",
    "        return sb_rep\n",
    "\n",
    "    def toGraph(self):\n",
    "        \"\"\"\n",
    "        Need to write this one up\n",
    "        #TODO: for this, new X and Y values should be blank or zero, leave it up for further development\n",
    "        \"\"\"      \n",
    "        # initialize object to keep graph\n",
    "        graph_rep = {'nodes': [], 'edges': []}\n",
    "        \n",
    "        # fill in node information\n",
    "        for node_id, mb_id in self.node_to_id.items():\n",
    "            # search for information in species or reactions\n",
    "            if mb_id in self.species.keys():\n",
    "                title = self.species[mb_id]['name']\n",
    "                node_class = 'species'\n",
    "            elif mb_id in self.reactions.keys():\n",
    "                title = self.reactions[mb_id]['name']\n",
    "                node_class = 'reaction'\n",
    "            else:\n",
    "                raise ValueError(f'Could not find molybdenum id {mb_id} from node_to_id in species or reactions')\n",
    "\n",
    "            # keep information\n",
    "            node_info = {\n",
    "                'id': node_id,\n",
    "                'title': title,\n",
    "                'x': 0.0,\n",
    "                'y': 0.0,\n",
    "                'nodeClass': node_class\n",
    "            }\n",
    "            graph_rep['nodes'].append(node_info)\n",
    "            \n",
    "        # fill in edge information from reactions\n",
    "        # inverse the information in nodes_to_id\n",
    "        id_to_nodes = {v: k for k, v in self.node_to_id.items()}\n",
    "        # relate each species name to its id\n",
    "        spec_name_to_id = {spec_info['name']: spec_id for spec_id, spec_info in self.species.items()}\n",
    "        # then iterate by each reaction\n",
    "        for reac_mb_id, reac in self.reactions.items():\n",
    "            # first reagents\n",
    "            for reagent in reac['reagents']:\n",
    "                # source is the species\n",
    "                source = id_to_nodes[spec_name_to_id[reagent]]\n",
    "                # target is the reaction\n",
    "                target = id_to_nodes[reac_mb_id]\n",
    "                # keep information\n",
    "                graph_rep['edges'].append({'source': source,\n",
    "                                           'target': target})\n",
    "            # then products\n",
    "            for product in reac['products']:\n",
    "                # source is the reaction\n",
    "                source = id_to_nodes[reac_mb_id]\n",
    "                # target is the species\n",
    "                target = id_to_nodes[spec_name_to_id[product]]\n",
    "                # keep information\n",
    "                graph_rep['edges'].append({'source': source,\n",
    "                                           'target': target})\n",
    "\n",
    "        return graph_rep"
   ]
  },
  {
   "cell_type": "markdown",
   "id": "674ed14b",
   "metadata": {},
   "source": [
    "Initialize model with the molybdenum model"
   ]
  },
  {
   "cell_type": "code",
   "execution_count": 20,
   "id": "ebed108e",
   "metadata": {},
   "outputs": [],
   "source": [
    "mb_model = ModelRepresentation()\n",
    "mb_model.loadm(mod_data)"
   ]
  },
  {
   "cell_type": "markdown",
   "id": "a3c08fb0",
   "metadata": {},
   "source": [
    "I can also explore it as a molybdenum model"
   ]
  },
  {
   "cell_type": "code",
   "execution_count": 21,
   "id": "cfe833a6",
   "metadata": {},
   "outputs": [
    {
     "data": {
      "text/plain": [
       "{'spec1': {'name': 'E', 'amt': 5e-21, 'fixed': False},\n",
       " 'spec2': {'name': 'S', 'amt': 1e-20, 'fixed': False},\n",
       " 'spec3': {'name': 'ES', 'amt': 0.0, 'fixed': False},\n",
       " 'spec4': {'name': 'P', 'amt': 0.0, 'fixed': False}}"
      ]
     },
     "execution_count": 21,
     "metadata": {},
     "output_type": "execute_result"
    }
   ],
   "source": [
    "mb_model.species"
   ]
  },
  {
   "cell_type": "code",
   "execution_count": 22,
   "id": "657aa851",
   "metadata": {},
   "outputs": [
    {
     "data": {
      "text/plain": [
       "{'reac5': {'name': 'veq',\n",
       "  'reagents': ['E', 'S'],\n",
       "  'products': ['ES'],\n",
       "  'expression': '(kon*E*S-koff*ES)'},\n",
       " 'reac6': {'name': 'vcat',\n",
       "  'reagents': ['ES'],\n",
       "  'products': ['P'],\n",
       "  'expression': 'kcat*ES'}}"
      ]
     },
     "execution_count": 22,
     "metadata": {},
     "output_type": "execute_result"
    }
   ],
   "source": [
    "mb_model.reactions"
   ]
  },
  {
   "cell_type": "code",
   "execution_count": 23,
   "id": "5bb2a942",
   "metadata": {},
   "outputs": [
    {
     "data": {
      "text/plain": [
       "{'param1': {'name': 'koff', 'val': 0.2},\n",
       " 'param2': {'name': 'kon', 'val': 10000000.0},\n",
       " 'param3': {'name': 'kcat', 'val': 0.1}}"
      ]
     },
     "execution_count": 23,
     "metadata": {},
     "output_type": "execute_result"
    }
   ],
   "source": [
    "mb_model.params"
   ]
  },
  {
   "cell_type": "code",
   "execution_count": 24,
   "id": "27584f91",
   "metadata": {},
   "outputs": [
    {
     "data": {
      "text/plain": [
       "{1: 'spec1', 2: 'spec2', 3: 'spec3', 4: 'spec4', 5: 'reac5', 6: 'reac6'}"
      ]
     },
     "execution_count": 24,
     "metadata": {},
     "output_type": "execute_result"
    }
   ],
   "source": [
    "mb_model.node_to_id"
   ]
  },
  {
   "cell_type": "code",
   "execution_count": 25,
   "id": "2b182645",
   "metadata": {},
   "outputs": [
    {
     "data": {
      "text/plain": [
       "{'species': {'spec1': {'name': 'E', 'amt': 5e-21, 'fixed': False},\n",
       "  'spec2': {'name': 'S', 'amt': 1e-20, 'fixed': False},\n",
       "  'spec3': {'name': 'ES', 'amt': 0.0, 'fixed': False},\n",
       "  'spec4': {'name': 'P', 'amt': 0.0, 'fixed': False}},\n",
       " 'reactions': {'reac5': {'name': 'veq',\n",
       "   'reagents': ['E', 'S'],\n",
       "   'products': ['ES'],\n",
       "   'expression': '(kon*E*S-koff*ES)'},\n",
       "  'reac6': {'name': 'vcat',\n",
       "   'reagents': ['ES'],\n",
       "   'products': ['P'],\n",
       "   'expression': 'kcat*ES'}},\n",
       " 'params': {'param1': {'name': 'koff', 'val': 0.2},\n",
       "  'param2': {'name': 'kon', 'val': 10000000.0},\n",
       "  'param3': {'name': 'kcat', 'val': 0.1}},\n",
       " 'node_to_id': {1: 'spec1',\n",
       "  2: 'spec2',\n",
       "  3: 'spec3',\n",
       "  4: 'spec4',\n",
       "  5: 'reac5',\n",
       "  6: 'reac6'},\n",
       " 'sim_params': {}}"
      ]
     },
     "execution_count": 25,
     "metadata": {},
     "output_type": "execute_result"
    }
   ],
   "source": [
    "mb_model.todict()"
   ]
  },
  {
   "cell_type": "code",
   "execution_count": 26,
   "id": "32fefc4d",
   "metadata": {},
   "outputs": [
    {
     "data": {
      "text/plain": [
       "'{\"species\": {\"spec1\": {\"name\": \"E\", \"amt\": 5e-21, \"fixed\": false}, \"spec2\": {\"name\": \"S\", \"amt\": 1e-20, \"fixed\": false}, \"spec3\": {\"name\": \"ES\", \"amt\": 0.0, \"fixed\": false}, \"spec4\": {\"name\": \"P\", \"amt\": 0.0, \"fixed\": false}}, \"reactions\": {\"reac5\": {\"name\": \"veq\", \"reagents\": [\"E\", \"S\"], \"products\": [\"ES\"], \"expression\": \"(kon*E*S-koff*ES)\"}, \"reac6\": {\"name\": \"vcat\", \"reagents\": [\"ES\"], \"products\": [\"P\"], \"expression\": \"kcat*ES\"}}, \"params\": {\"param1\": {\"name\": \"koff\", \"val\": 0.2}, \"param2\": {\"name\": \"kon\", \"val\": 10000000.0}, \"param3\": {\"name\": \"kcat\", \"val\": 0.1}}, \"node_to_id\": {\"1\": \"spec1\", \"2\": \"spec2\", \"3\": \"spec3\", \"4\": \"spec4\", \"5\": \"reac5\", \"6\": \"reac6\"}, \"sim_params\": {}}'"
      ]
     },
     "execution_count": 26,
     "metadata": {},
     "output_type": "execute_result"
    }
   ],
   "source": [
    "mb_model.tojson()"
   ]
  },
  {
   "cell_type": "markdown",
   "id": "a74adef4",
   "metadata": {},
   "source": [
    "Then, I can use this model as if it was a simple_sbml model"
   ]
  },
  {
   "cell_type": "code",
   "execution_count": 10,
   "id": "35568c09",
   "metadata": {},
   "outputs": [
    {
     "data": {
      "text/plain": [
       "0.2"
      ]
     },
     "execution_count": 10,
     "metadata": {},
     "output_type": "execute_result"
    }
   ],
   "source": [
    "simple_sbml = mb_model.tosimpleSbml()\n",
    "simple_sbml.getParameterValue('koff')"
   ]
  },
  {
   "cell_type": "code",
   "execution_count": 11,
   "id": "74c3b9f3",
   "metadata": {},
   "outputs": [
    {
     "data": {
      "text/plain": [
       "['veq', 'vcat']"
      ]
     },
     "execution_count": 11,
     "metadata": {},
     "output_type": "execute_result"
    }
   ],
   "source": [
    "simple_sbml.getListOfReactionIds()"
   ]
  },
  {
   "cell_type": "markdown",
   "id": "be26fd54",
   "metadata": {},
   "source": [
    "I can also convert it to the other formats"
   ]
  },
  {
   "cell_type": "markdown",
   "id": "b0e6e28a",
   "metadata": {},
   "source": [
    " - SBML"
   ]
  },
  {
   "cell_type": "code",
   "execution_count": 12,
   "id": "8bc7b3d0",
   "metadata": {},
   "outputs": [
    {
     "name": "stdout",
     "output_type": "stream",
     "text": [
      "<?xml version=\"1.0\" encoding=\"UTF-8\"?>\n",
      "<sbml xmlns=\"http://www.sbml.org/sbml/level3/version1/core\" level=\"3\" version=\"1\">\n",
      "  <model substanceUnits=\"mole\" timeUnits=\"second\" extentUnits=\"mole\">\n",
      "    <listOfUnitDefinitions>\n",
      "      <unitDefinition id=\"per_second\">\n",
      "        <listOfUnits>\n",
      "          <unit kind=\"second\" exponent=\"-1\" scale=\"0\" multiplier=\"1\"/>\n",
      "        </listOfUnits>\n",
      "      </unitDefinition>\n",
      "    </listOfUnitDefinitions>\n",
      "    <listOfCompartments>\n",
      "      <compartment id=\"c1\" spatialDimensions=\"3\" size=\"1\" units=\"litre\" constant=\"true\"/>\n",
      "    </listOfCompartments>\n",
      "    <listOfSpecies>\n",
      "      <species id=\"E\" compartment=\"c1\" initialAmount=\"5e-21\" substanceUnits=\"mole\" hasOnlySubstanceUnits=\"false\" boundaryCondition=\"false\" constant=\"false\"/>\n",
      "      <species id=\"S\" compartment=\"c1\" initialAmount=\"1e-20\" substanceUnits=\"mole\" hasOnlySubstanceUnits=\"false\" boundaryCondition=\"false\" constant=\"false\"/>\n",
      "      <species id=\"ES\" compartment=\"c1\" initialAmount=\"0\" substanceUnits=\"mole\" hasOnlySubstanceUnits=\"false\" boundaryCondition=\"false\" constant=\"false\"/>\n",
      "      <species id=\"P\" compartment=\"c1\" initialAmount=\"0\" substanceUnits=\"mole\" hasOnlySubstanceUnits=\"false\" boundaryCondition=\"false\" constant=\"false\"/>\n",
      "    </listOfSpecies>\n",
      "    <listOfParameters>\n",
      "      <parameter id=\"koff\" value=\"0.2\" units=\"per_second\" constant=\"false\"/>\n",
      "      <parameter id=\"kon\" value=\"10000000\" units=\"per_second\" constant=\"false\"/>\n",
      "      <parameter id=\"kcat\" value=\"0.1\" units=\"per_second\" constant=\"false\"/>\n",
      "    </listOfParameters>\n",
      "    <listOfReactions>\n",
      "      <reaction id=\"veq\" reversible=\"false\" fast=\"false\">\n",
      "        <listOfReactants>\n",
      "          <speciesReference species=\"E\" stoichiometry=\"1\" constant=\"true\"/>\n",
      "          <speciesReference species=\"S\" stoichiometry=\"1\" constant=\"true\"/>\n",
      "        </listOfReactants>\n",
      "        <listOfProducts>\n",
      "          <speciesReference species=\"ES\" stoichiometry=\"1\" constant=\"true\"/>\n",
      "        </listOfProducts>\n",
      "        <kineticLaw>\n",
      "          <math xmlns=\"http://www.w3.org/1998/Math/MathML\">\n",
      "            <apply>\n",
      "              <minus/>\n",
      "              <apply>\n",
      "                <times/>\n",
      "                <ci> kon </ci>\n",
      "                <ci> E </ci>\n",
      "                <ci> S </ci>\n",
      "              </apply>\n",
      "              <apply>\n",
      "                <times/>\n",
      "                <ci> koff </ci>\n",
      "                <ci> ES </ci>\n",
      "              </apply>\n",
      "            </apply>\n",
      "          </math>\n",
      "        </kineticLaw>\n",
      "      </reaction>\n",
      "      <reaction id=\"vcat\" reversible=\"false\" fast=\"false\">\n",
      "        <listOfReactants>\n",
      "          <speciesReference species=\"ES\" stoichiometry=\"1\" constant=\"true\"/>\n",
      "        </listOfReactants>\n",
      "        <listOfProducts>\n",
      "          <speciesReference species=\"P\" stoichiometry=\"1\" constant=\"true\"/>\n",
      "        </listOfProducts>\n",
      "        <kineticLaw>\n",
      "          <math xmlns=\"http://www.w3.org/1998/Math/MathML\">\n",
      "            <apply>\n",
      "              <times/>\n",
      "              <ci> kcat </ci>\n",
      "              <ci> ES </ci>\n",
      "            </apply>\n",
      "          </math>\n",
      "        </kineticLaw>\n",
      "      </reaction>\n",
      "    </listOfReactions>\n",
      "  </model>\n",
      "</sbml>\n",
      "\n"
     ]
    }
   ],
   "source": [
    "print(mb_model.toSBMLstr())"
   ]
  },
  {
   "cell_type": "markdown",
   "id": "c0899bf0",
   "metadata": {},
   "source": [
    " - Write up of simpleSBML \n",
    " \n",
    " TODO: This will be useful to print in a text box, that the user can then edit, and resubmit to make changes to the model procedurally. The user will have also the option to make this modifications in antimony from a different text box (they should be like dropdowns)"
   ]
  },
  {
   "cell_type": "code",
   "execution_count": 13,
   "id": "96645637",
   "metadata": {},
   "outputs": [
    {
     "name": "stdout",
     "output_type": "stream",
     "text": [
      "import simplesbml\n",
      "model = simplesbml.sbmlModel();\n",
      "model.addSpecies(species_id='E', amt=5e-21);\n",
      "model.addSpecies(species_id='S', amt=1e-20);\n",
      "model.addSpecies(species_id='ES', amt=0.0);\n",
      "model.addSpecies(species_id='P', amt=0.0);\n",
      "model.addParameter(param_id='koff', val=0.2);\n",
      "model.addParameter(param_id='kon', val=10000000.0);\n",
      "model.addParameter(param_id='kcat', val=0.1);\n",
      "model.addReaction(reactants=['E', 'S'], products=['ES'], expression='kon * E * S - koff * ES', rxn_id='veq');\n",
      "model.addReaction(reactants=['ES'], products=['P'], expression='kcat * ES', rxn_id='vcat');\n"
     ]
    }
   ],
   "source": [
    "print(mb_model.tosimpleSbmlWriteup())"
   ]
  },
  {
   "cell_type": "markdown",
   "id": "b3a5ae0d",
   "metadata": {},
   "source": [
    " - To antimony"
   ]
  },
  {
   "cell_type": "code",
   "execution_count": 14,
   "id": "3406c15f",
   "metadata": {},
   "outputs": [
    {
     "name": "stdout",
     "output_type": "stream",
     "text": [
      "// Created by libAntimony v2.12.0\n",
      "model *doc0()\n",
      "\n",
      "  // Compartments and Species:\n",
      "  compartment c1;\n",
      "  species E in c1, S in c1, ES in c1, P in c1;\n",
      "\n",
      "  // Reactions:\n",
      "  veq: E + S => ES; kon*E*S - koff*ES;\n",
      "  vcat: ES => P; kcat*ES;\n",
      "\n",
      "  // Species initializations:\n",
      "  E = 5e-21/c1;\n",
      "  E has mole_per_litre;\n",
      "  S = 1e-20/c1;\n",
      "  S has mole_per_litre;\n",
      "  ES = 0;\n",
      "  ES has mole_per_litre;\n",
      "  P = 0;\n",
      "  P has mole_per_litre;\n",
      "\n",
      "  // Compartment initializations:\n",
      "  c1 = 1;\n",
      "  c1 has litre;\n",
      "\n",
      "  // Variable initializations:\n",
      "  koff = 0.2;\n",
      "  koff has per_second;\n",
      "  kon = 10000000;\n",
      "  kon has per_second;\n",
      "  kcat = 0.1;\n",
      "  kcat has per_second;\n",
      "\n",
      "  // Other declarations:\n",
      "  var koff, kon, kcat;\n",
      "  const c1;\n",
      "\n",
      "  // Unit definitions:\n",
      "  unit per_second = 1 / second;\n",
      "  unit substance = mole;\n",
      "  unit extent = mole;\n",
      "  unit time_unit = second;\n",
      "  unit mole_per_litre = mole / litre;\n",
      "end\n",
      "\n"
     ]
    }
   ],
   "source": [
    "print(mb_model.toAntimony())"
   ]
  },
  {
   "cell_type": "markdown",
   "id": "1182e5b3",
   "metadata": {},
   "source": [
    " - I also want to get a graphic representation that looks like this (except for x and y elements, which shall be empty)"
   ]
  },
  {
   "cell_type": "markdown",
   "id": "dbf7b536",
   "metadata": {},
   "source": [
    "```python\n",
    "con_data = {'nodes':  [{'id': 1, 'title': 'E', 'x': 228.1999969482422, 'y': 169.60000610351562, 'nodeClass': 'species'},\n",
    "                       {'id': 2, 'title': 'S', 'x': 227.1999969482422, 'y': 323.6000061035156, 'nodeClass': 'species'},\n",
    "                       {'id': 3, 'title': 'ES', 'x': 615.2000122070312, 'y': 226.60000610351562, 'nodeClass': 'species'},\n",
    "                       {'id': 4, 'title': 'P', 'x': 959.2000122070312, 'y': 222.60000610351562, 'nodeClass': 'species'},\n",
    "                       {'id': 5, 'title': 'veq', 'x': 400.20001220703125, 'y': 229.60000610351562, 'nodeClass': 'reaction'},\n",
    "                       {'id': 6, 'title': 'vcat', 'x': 776.2000122070312, 'y': 229.60000610351562, 'nodeClass': 'reaction'}],\n",
    "             'edges': [{'source': 1, 'target': 5}, \n",
    "                       {'source': 2, 'target': 5},\n",
    "                       {'source': 5, 'target': 3},\n",
    "                       {'source': 3, 'target': 6},\n",
    "                       {'source': 6, 'target': 4}]}\n",
    "```"
   ]
  },
  {
   "cell_type": "code",
   "execution_count": 15,
   "id": "813d4a82",
   "metadata": {},
   "outputs": [
    {
     "data": {
      "text/plain": [
       "{'nodes': [{'id': 1, 'title': 'E', 'x': 0.0, 'y': 0.0, 'nodeClass': 'species'},\n",
       "  {'id': 2, 'title': 'S', 'x': 0.0, 'y': 0.0, 'nodeClass': 'species'},\n",
       "  {'id': 3, 'title': 'ES', 'x': 0.0, 'y': 0.0, 'nodeClass': 'species'},\n",
       "  {'id': 4, 'title': 'P', 'x': 0.0, 'y': 0.0, 'nodeClass': 'species'},\n",
       "  {'id': 5, 'title': 'veq', 'x': 0.0, 'y': 0.0, 'nodeClass': 'reaction'},\n",
       "  {'id': 6, 'title': 'vcat', 'x': 0.0, 'y': 0.0, 'nodeClass': 'reaction'}],\n",
       " 'edges': [{'source': 1, 'target': 5},\n",
       "  {'source': 2, 'target': 5},\n",
       "  {'source': 5, 'target': 3},\n",
       "  {'source': 3, 'target': 6},\n",
       "  {'source': 6, 'target': 4}]}"
      ]
     },
     "execution_count": 15,
     "metadata": {},
     "output_type": "execute_result"
    }
   ],
   "source": [
    "mb_model.toGraph()"
   ]
  },
  {
   "cell_type": "code",
   "execution_count": null,
   "id": "5268c781",
   "metadata": {},
   "outputs": [],
   "source": []
  }
 ],
 "metadata": {
  "kernelspec": {
   "display_name": "telmb",
   "language": "python",
   "name": "telmb"
  },
  "language_info": {
   "codemirror_mode": {
    "name": "ipython",
    "version": 3
   },
   "file_extension": ".py",
   "mimetype": "text/x-python",
   "name": "python",
   "nbconvert_exporter": "python",
   "pygments_lexer": "ipython3",
   "version": "3.7.0"
  }
 },
 "nbformat": 4,
 "nbformat_minor": 5
}
